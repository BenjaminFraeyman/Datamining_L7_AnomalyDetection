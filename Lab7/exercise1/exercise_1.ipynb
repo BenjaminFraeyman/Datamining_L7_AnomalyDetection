{
 "cells": [
  {
   "cell_type": "markdown",
   "metadata": {},
   "source": [
    "# Classification based anomaly detection\n",
    "\n",
    "Name: Benjamin Fraeyman\n",
    "\n",
    "It is possible that when creating a system to detect anomalies, the dataset at hand will have a few samples of the anomalies. For example, microcalcifications in mammographic images (i.e. small calcium deposits that develop in a woman's breast tissue) are rare and should be detectable as they are this is the first step required to detect malignancy. Datasets exist containing data from both healthy mammographic images and non-healthy mammographic images. However, within those datasets there are many more samples of the healthy mammographic images.\n",
    "\n",
    "\n",
    "Within this lab exercise our goal is to create a classifier that can deal with this class skew/unbalance and detect anomalies in mammographic images.\n",
    "\n",
    "---\n",
    "\n",
    "Imports"
   ]
  },
  {
   "cell_type": "code",
   "execution_count": 1,
   "metadata": {},
   "outputs": [
    {
     "name": "stderr",
     "output_type": "stream",
     "text": [
      "C:\\ProgramData\\Anaconda2\\envs\\pyth36\\lib\\site-packages\\sklearn\\ensemble\\weight_boosting.py:29: DeprecationWarning: numpy.core.umath_tests is an internal NumPy module and should not be imported. It will be removed in a future NumPy release.\n",
      "  from numpy.core.umath_tests import inner1d\n"
     ]
    }
   ],
   "source": [
    "# ![My Title](mammography.png)\n",
    "%matplotlib inline\n",
    "import pandas as pd\n",
    "from collections import Counter\n",
    "from sklearn.ensemble import RandomForestClassifier\n",
    "from sklearn.metrics import f1_score, roc_auc_score, confusion_matrix, recall_score, precision_score, accuracy_score\n",
    "import numpy as np\n",
    "np.random.seed(0)\n",
    "from numpy.random import choice\n",
    "from sklearn.utils import resample\n",
    "from scipy.stats import mode\n",
    "from sklearn import tree\n",
    "import matplotlib.pylab as plt\n",
    "\n",
    "# to clear output after long list of checks that were printed out :)\n",
    "from IPython.display import clear_output # used in last codeblock to remove all the prints from my functions"
   ]
  },
  {
   "cell_type": "markdown",
   "metadata": {},
   "source": [
    "---\n",
    "\n",
    "**Load the training, testing and validation set together with their respective class labels).**\n",
    "\n",
    "- training set: df_training_X and df_training_y\n",
    "- validation set: df_validation_X and df_validation_y\n",
    "- testing set: df_testing_X and df_testing_y\n"
   ]
  },
  {
   "cell_type": "code",
   "execution_count": 2,
   "metadata": {},
   "outputs": [],
   "source": [
    "df_training_X = pd.read_csv('./df_training_X', sep=\",\")\n",
    "df_training_y = pd.read_csv('./df_training_y', sep=\",\")\n",
    "df_validation_X = pd.read_csv('./df_validation_X', sep=\",\")\n",
    "df_validation_y = pd.read_csv('./df_validation_y', sep=\",\")\n",
    "df_testing_X = pd.read_csv('./df_testing_X', sep=\",\")\n",
    "df_testing_y = pd.read_csv('./df_testing_y', sep=\",\")"
   ]
  },
  {
   "cell_type": "markdown",
   "metadata": {},
   "source": [
    "**Inspect the data**"
   ]
  },
  {
   "cell_type": "code",
   "execution_count": 3,
   "metadata": {},
   "outputs": [
    {
     "data": {
      "text/html": [
       "<div>\n",
       "<style scoped>\n",
       "    .dataframe tbody tr th:only-of-type {\n",
       "        vertical-align: middle;\n",
       "    }\n",
       "\n",
       "    .dataframe tbody tr th {\n",
       "        vertical-align: top;\n",
       "    }\n",
       "\n",
       "    .dataframe thead th {\n",
       "        text-align: right;\n",
       "    }\n",
       "</style>\n",
       "<table border=\"1\" class=\"dataframe\">\n",
       "  <thead>\n",
       "    <tr style=\"text-align: right;\">\n",
       "      <th></th>\n",
       "      <th>Label</th>\n",
       "    </tr>\n",
       "  </thead>\n",
       "  <tbody>\n",
       "    <tr>\n",
       "      <th>0</th>\n",
       "      <td>0</td>\n",
       "    </tr>\n",
       "  </tbody>\n",
       "</table>\n",
       "</div>"
      ],
      "text/plain": [
       "   Label\n",
       "0      0"
      ]
     },
     "execution_count": 3,
     "metadata": {},
     "output_type": "execute_result"
    }
   ],
   "source": [
    "df_training_y.head(1)"
   ]
  },
  {
   "cell_type": "markdown",
   "metadata": {},
   "source": [
    "- What is the shape of the training set?"
   ]
  },
  {
   "cell_type": "code",
   "execution_count": 4,
   "metadata": {},
   "outputs": [
    {
     "data": {
      "text/plain": [
       "(6709, 6)"
      ]
     },
     "execution_count": 4,
     "metadata": {},
     "output_type": "execute_result"
    }
   ],
   "source": [
    "df_training_X.shape"
   ]
  },
  {
   "cell_type": "markdown",
   "metadata": {},
   "source": [
    "- How many samples of class 0 and 1 are there in the training set?"
   ]
  },
  {
   "cell_type": "code",
   "execution_count": 5,
   "metadata": {
    "scrolled": true
   },
   "outputs": [
    {
     "data": {
      "text/plain": [
       "0    6553\n",
       "1     156\n",
       "Name: Label, dtype: int64"
      ]
     },
     "execution_count": 5,
     "metadata": {},
     "output_type": "execute_result"
    }
   ],
   "source": [
    "df_training_y.Label.value_counts()"
   ]
  },
  {
   "cell_type": "markdown",
   "metadata": {},
   "source": [
    "---\n",
    "\n",
    "We will first set a baseline to see how well an everyday classifier works.\n",
    "**Create a random forest classifier and train it on the training set. The random forest should have 50 trees.** \n",
    "Tip: fix the random_state of your RandomForestClassifier \n",
    "\n",
    "https://medium.com/machine-learning-101/chapter-5-random-forest-classifier-56dc7425c3e1"
   ]
  },
  {
   "cell_type": "code",
   "execution_count": 6,
   "metadata": {},
   "outputs": [
    {
     "name": "stderr",
     "output_type": "stream",
     "text": [
      "C:\\ProgramData\\Anaconda2\\envs\\pyth36\\lib\\site-packages\\ipykernel_launcher.py:2: DataConversionWarning: A column-vector y was passed when a 1d array was expected. Please change the shape of y to (n_samples,), for example using ravel().\n",
      "  \n"
     ]
    },
    {
     "data": {
      "text/plain": [
       "RandomForestClassifier(bootstrap=True, class_weight=None, criterion='gini',\n",
       "            max_depth=None, max_features='auto', max_leaf_nodes=None,\n",
       "            min_impurity_decrease=0.0, min_impurity_split=None,\n",
       "            min_samples_leaf=1, min_samples_split=2,\n",
       "            min_weight_fraction_leaf=0.0, n_estimators=50, n_jobs=1,\n",
       "            oob_score=False, random_state=0, verbose=0, warm_start=False)"
      ]
     },
     "execution_count": 6,
     "metadata": {},
     "output_type": "execute_result"
    }
   ],
   "source": [
    "clf = RandomForestClassifier(n_estimators=50, random_state=0)\n",
    "clf.fit(df_training_X, df_training_y)"
   ]
  },
  {
   "cell_type": "markdown",
   "metadata": {},
   "source": [
    "---\n",
    "\n",
    "**Evaluate how well the classifier works by predicting for the training, validation and testing set. For all 3 datasets, make sure you report the precision, recall, f1 score, accuracy and the confusion matrix.**\n",
    "\n",
    "Hint: create a re-usable function that provides you with these scores."
   ]
  },
  {
   "cell_type": "code",
   "execution_count": 7,
   "metadata": {},
   "outputs": [],
   "source": [
    "def prediction(df_to_predict_on, model, df_labels):\n",
    "    predicted_labels = model.predict(df_to_predict_on)\n",
    "    print(\"\\trecall_score:\", \"%.2f\" % (recall_score(df_labels, predicted_labels)*100), \"%\")\n",
    "    print(\"\\taccuracy_score:\", \"%.2f\" % (accuracy_score(df_labels, predicted_labels)*100), \"%\")\n",
    "    print(\"\\tprecision_score:\", \"%.2f\" % (precision_score(df_labels, predicted_labels)*100), \"%\")\n",
    "    print(\"\\tf1_score:\", \"%.2f\" % (f1_score(df_labels, predicted_labels)*100), \"%\")\n",
    "    print(\"\\tconfusion_matrix:\")\n",
    "    print(\"\\t\\t\",confusion_matrix(df_labels, predicted_labels)[0])\n",
    "    print(\"\\t\\t\",confusion_matrix(df_labels, predicted_labels)[1])\n",
    "    print(\"\")\n",
    "\n",
    "# to just get f1 score\n",
    "def prediction_f1(df_to_predict_on, model, df_labels):\n",
    "    predicted_labels = model.predict(df_to_predict_on)\n",
    "    f1 = f1_score(df_labels, predicted_labels)\n",
    "    print(\"\\tf1_score:\",f1)\n",
    "    return f1"
   ]
  },
  {
   "cell_type": "code",
   "execution_count": 8,
   "metadata": {},
   "outputs": [
    {
     "name": "stdout",
     "output_type": "stream",
     "text": [
      "df_training_X:\n",
      "\trecall_score: 97.44 %\n",
      "\taccuracy_score: 99.94 %\n",
      "\tprecision_score: 100.00 %\n",
      "\tf1_score: 98.70 %\n",
      "\tconfusion_matrix:\n",
      "\t\t [6553    0]\n",
      "\t\t [  4 152]\n",
      "\n"
     ]
    }
   ],
   "source": [
    "print(\"df_training_X:\")\n",
    "prediction(df_training_X, clf, df_training_y)"
   ]
  },
  {
   "cell_type": "code",
   "execution_count": 9,
   "metadata": {},
   "outputs": [
    {
     "name": "stdout",
     "output_type": "stream",
     "text": [
      "df_validation_X:\n",
      "\trecall_score: 53.85 %\n",
      "\taccuracy_score: 98.75 %\n",
      "\tprecision_score: 87.50 %\n",
      "\tf1_score: 66.67 %\n",
      "\tconfusion_matrix:\n",
      "\t\t [2181    4]\n",
      "\t\t [24 28]\n",
      "\n"
     ]
    }
   ],
   "source": [
    "print(\"df_validation_X:\")\n",
    "prediction(df_validation_X, clf, df_validation_y)"
   ]
  },
  {
   "cell_type": "code",
   "execution_count": 10,
   "metadata": {},
   "outputs": [
    {
     "name": "stdout",
     "output_type": "stream",
     "text": [
      "df_testing_X:\n",
      "\trecall_score: 44.23 %\n",
      "\taccuracy_score: 98.57 %\n",
      "\tprecision_score: 88.46 %\n",
      "\tf1_score: 58.97 %\n",
      "\tconfusion_matrix:\n",
      "\t\t [2182    3]\n",
      "\t\t [29 23]\n",
      "\n"
     ]
    }
   ],
   "source": [
    "print(\"df_testing_X:\")\n",
    "prediction(df_testing_X, clf, df_testing_y) "
   ]
  },
  {
   "cell_type": "markdown",
   "metadata": {},
   "source": [
    "---\n",
    "\n",
    "**Reflect on how well this classifier works:** \n",
    "    - Why does the classifier achieve a low recall?\n",
    "> The classifier is very picky: It does not think many things are correct. It does not classify all \"true\" cases as \"true\" (rather says it is \"wrong\" then have false positives).\n",
    "\n",
    "    - Why is the precision high?\n",
    "> Most guesses it classifies as \"true\" are actually \"true\".\n",
    "\n",
    "    - Why is the accuracy so high?\n",
    "> looking at the confusion matrix you can see that there are not a lot of \"true\" cases, thus when the classifier puts most guesses as \"false\" that means most of them are accurate. (the percentage of correct negatives is not affected a lot because of a small amount of false negatives)\n",
    "    \n",
    "    Source: https://medium.com/@klintcho/explaining-precision-and-recall-c770eb9c69e9\n",
    "---\n",
    "\n",
    "To deal with the imbalance in the dataset we will create a modified version of the random forest algorithm called\n",
    "[\"Balanced Random Forest\"](https://statistics.berkeley.edu/sites/default/files/tech-reports/666.pdf).\n",
    "\n",
    "The essence of the algorithm is the following:\n",
    "\n",
    "1. For each iteration in random forest, draw a bootstrap sample from the minority class. Randomly draw\n",
    "the same number of cases, with replacement, from the majority class.\n",
    "\n",
    "2. Induce a classification tree from the data to maximum size, without pruning. The tree is created with the following modification: At each node, instead of searching through all\n",
    "variables for the optimal split, only search through a set of k randomly selected variables. (k= $\\sqrt{\\text{total number of features}}$). (scikit-learn's DecisionTreeClassifier can do this all)\n",
    "\n",
    "3. Repeat the two steps above for the number of times desired. Aggregate the predictions of the ensemble\n",
    "and make the final prediction.\n",
    "\n",
    "**Create a python class called `BalancedRandomForest`. This class should have a `fit` and `predict` function (following the scikit-learn api interface). Within the fit function, the above steps should be implemented. The goal is to create several decision trees that are trained on a balanced subset of the data. Within the predict function you should make a prediction for every decision tree and do majority voting per sample.**\n",
    "\n",
    "**Make sure that your constructor has the number of trees as parameter, but also a parameter called ratio. The ratio parameter indicates how much of the majority samples should be kept in the subset. More precisly, it is used as follow: number of samples to draw from the majority class = ratio * numbers of samples in the minority class. This means that if you set the ratio to 1, you should get a balanced subset. If you set the ratio equal to 2, then you should have twice as many majority samples than minority samples.**\n",
    "\n",
    "Tip: fix the random_state of your DecisionTreeClassifier\n",
    "\n",
    "![My Title](https://www.svds.com/wp-content/uploads/2016/08/ImbalancedClasses_fig9.png)"
   ]
  },
  {
   "cell_type": "code",
   "execution_count": 11,
   "metadata": {},
   "outputs": [],
   "source": [
    "# https://javadoc.scijava.org/Fiji/ai/BalancedRandomForest.html\n",
    "# https://qiita.com/kyo-bad/items/0f6faf5629f6c563d36f\n",
    "from typing import Set, Any\n",
    "def remove_others(df, columns: Set[Any]):\n",
    "    cols_total: Set[Any] = set(df.columns)\n",
    "    diff: Set[Any] = cols_total - columns\n",
    "    df.drop(diff, axis=1, inplace=True)\n",
    "    return df\n",
    "\n",
    "class BalancedRandomForest():\n",
    "    def __init__(self, n_trees, n_samples, ratio):\n",
    "        self.n_trees = n_trees\n",
    "        self.n_samples = n_samples\n",
    "        self.trees = []\n",
    "        self.ratio = ratio\n",
    "        \n",
    "    def fit(self, dfx, dfy):\n",
    "        dfmerged = pd.concat([dfx, dfy], axis = 1)\n",
    "        df1 = dfmerged[dfy.Label == 1]\n",
    "        df0 = dfmerged[dfy.Label == 0]\n",
    "        for i in range(0, self.n_trees):\n",
    "            self.trees.append(tree.DecisionTreeClassifier(random_state = 0, max_features = 'sqrt'))\n",
    "            bootstrapsample0 = df0.sample(replace = True, n = self.n_samples * self.ratio, random_state = 0)\n",
    "            bootstrapsample1 = df1.sample(replace = True, n = self.n_samples, random_state = 0)\n",
    "            balancesample0 = bootstrapsample0.sample(replace = False, n = self.n_samples, random_state = 0)\n",
    "            balancesample1 = bootstrapsample1.sample(replace = False, n = self.n_samples, random_state = 0)\n",
    "            dfmergedsamples = balancesample0.append(balancesample1)\n",
    "            resultingX = dfmergedsamples.drop(\"Label\", axis=1)\n",
    "            resultingy = remove_others(dfmergedsamples, {\"Label\"})\n",
    "            self.trees[i].fit(resultingX, resultingy)\n",
    "\n",
    "    def predict(self, testX):\n",
    "        results = []\n",
    "        for i in range(0, self.n_trees):\n",
    "            results.append(self.trees[i].predict(testX))\n",
    "        return mode(results)[0][0]"
   ]
  },
  {
   "cell_type": "markdown",
   "metadata": {},
   "source": [
    "---\n",
    "\n",
    "**Train your BalancedRandomForest using 50 trees on the training set and set the ratio such that you create balanced subsets in your algorithm.**"
   ]
  },
  {
   "cell_type": "code",
   "execution_count": 12,
   "metadata": {
    "scrolled": true
   },
   "outputs": [
    {
     "name": "stdout",
     "output_type": "stream",
     "text": [
      "[0 1 0 ... 0 1 1]\n"
     ]
    }
   ],
   "source": [
    "brf = BalancedRandomForest(n_trees = 50, n_samples = df_training_y[df_training_y.Label == 1].shape[0], ratio = 1)\n",
    "brf.fit(df_training_X, df_training_y)\n",
    "print(brf.predict(df_training_X))"
   ]
  },
  {
   "cell_type": "markdown",
   "metadata": {},
   "source": [
    "---\n",
    "\n",
    "**Evaluate how well the algorithm works for the training, validation and testing set.**"
   ]
  },
  {
   "cell_type": "code",
   "execution_count": 13,
   "metadata": {},
   "outputs": [
    {
     "name": "stdout",
     "output_type": "stream",
     "text": [
      "\trecall_score: 91.67 %\n",
      "\taccuracy_score: 87.58 %\n",
      "\tprecision_score: 14.85 %\n",
      "\tf1_score: 25.56 %\n",
      "\tconfusion_matrix:\n",
      "\t\t [5733  820]\n",
      "\t\t [ 13 143]\n",
      "\n"
     ]
    }
   ],
   "source": [
    "prediction(df_training_X, brf, df_training_y)"
   ]
  },
  {
   "cell_type": "code",
   "execution_count": 14,
   "metadata": {},
   "outputs": [
    {
     "name": "stdout",
     "output_type": "stream",
     "text": [
      "\trecall_score: 76.92 %\n",
      "\taccuracy_score: 88.11 %\n",
      "\tprecision_score: 13.61 %\n",
      "\tf1_score: 23.12 %\n",
      "\tconfusion_matrix:\n",
      "\t\t [1931  254]\n",
      "\t\t [12 40]\n",
      "\n"
     ]
    }
   ],
   "source": [
    "prediction(df_validation_X, brf, df_validation_y)"
   ]
  },
  {
   "cell_type": "code",
   "execution_count": 15,
   "metadata": {},
   "outputs": [
    {
     "name": "stdout",
     "output_type": "stream",
     "text": [
      "\trecall_score: 90.38 %\n",
      "\taccuracy_score: 85.70 %\n",
      "\tprecision_score: 12.98 %\n",
      "\tf1_score: 22.71 %\n",
      "\tconfusion_matrix:\n",
      "\t\t [1870  315]\n",
      "\t\t [ 5 47]\n",
      "\n"
     ]
    }
   ],
   "source": [
    "prediction(df_testing_X, brf, df_testing_y)"
   ]
  },
  {
   "cell_type": "markdown",
   "metadata": {},
   "source": [
    "**We can see that the recall has increased a lot, but the precision has lowered. Why is this?**\n",
    "> Recall did not increase in my case.<br/> Precision did get lower. Low precision could be because the optimal combination of trees and ratio is not used. The set is balanced but our data is not and we do not take this into account.\n",
    "\n",
    "---\n",
    "\n",
    "**Do a gridsearch to find the optimal number of trees in your balanced random forest and also to find the optimal ratio.** \n",
    "\n",
    "This means that you should increase your ratio such that the subsets contain 2x, 3x, 4x,... as many majority samples compared to the minority samples. <br/>\n",
    "Do this up untill a ratio of 42. <br/>\n",
    "Additionally, to find the optimal number of trees, start with 1 tree and increase the number of trees untill you have 500 trees (you can do this in steps of 50 trees). <br/>\n",
    "The grid search should be executed on the validation set (i.e. training should happen on the training set and evaluation on the validation set). <br/>\n",
    "The evaluation metric you should optimize is the f1-score.<br/>\n",
    "Report the optimal hyperparameters below."
   ]
  },
  {
   "cell_type": "code",
   "execution_count": 16,
   "metadata": {},
   "outputs": [
    {
     "name": "stdout",
     "output_type": "stream",
     "text": [
      "score: 26.84 %\n",
      "ratio:  24\n",
      "trees:  1\n"
     ]
    }
   ],
   "source": [
    "s = 0\n",
    "trees = 0\n",
    "ratio = 0\n",
    "score_list = []\n",
    "for r in range(2, 43):\n",
    "    print(\"ratio:\",r)\n",
    "    for t in range(1, 502, 50):\n",
    "        print(\"\\ttrees:\",t)\n",
    "        bestBRF = BalancedRandomForest(n_trees = t, n_samples = df_training_y[df_training_y.Label == 1].shape[0], ratio = r)\n",
    "        bestBRF.fit(df_training_X, df_training_y)\n",
    "        score = prediction_f1(df_validation_X, bestBRF, df_validation_y)\n",
    "        score_list.append(score)\n",
    "        if(score > s):\n",
    "            s = score\n",
    "            trees = t\n",
    "            ratio = r\n",
    "    clear_output(wait=True)\n",
    "print(\"score:\", \"%.2f\" % (s*100), \"%\")\n",
    "print(\"ratio: \", ratio)\n",
    "print(\"trees: \", trees)"
   ]
  },
  {
   "cell_type": "markdown",
   "metadata": {},
   "source": [
    "---\n",
    "\n",
    "**Finally, using your best model, predict for the testing set.**"
   ]
  },
  {
   "cell_type": "code",
   "execution_count": 17,
   "metadata": {},
   "outputs": [
    {
     "name": "stdout",
     "output_type": "stream",
     "text": [
      "\trecall_score: 90.38 %\n",
      "\taccuracy_score: 89.58 %\n",
      "\tprecision_score: 17.09 %\n",
      "\tf1_score: 28.75 %\n",
      "\tconfusion_matrix:\n",
      "\t\t [1957  228]\n",
      "\t\t [ 5 47]\n",
      "\n"
     ]
    }
   ],
   "source": [
    "bestBRF = BalancedRandomForest(n_trees = trees, n_samples = df_training_y[df_training_y.Label == 1].shape[0], ratio = ratio)\n",
    "bestBRF.fit(df_training_X, df_training_y)\n",
    "prediction(df_testing_X, bestBRF, df_testing_y)"
   ]
  },
  {
   "cell_type": "markdown",
   "metadata": {},
   "source": [
    "**What do you observe?**\n",
    "> High recall and high accuracy but low precision and low f1\n",
    "\n",
    "**Plot the f1-scores of your gridsearch in an image as you have done for the SVM lab session**"
   ]
  },
  {
   "cell_type": "code",
   "execution_count": 18,
   "metadata": {},
   "outputs": [
    {
     "data": {
      "image/png": "[encoded data removed]",
      "text/plain": [
       "<Figure size 432x288 with 1 Axes>"
      ]
     },
     "metadata": {
      "needs_background": "light"
     },
     "output_type": "display_data"
    }
   ],
   "source": [
    "plt.plot(score_list)\n",
    "plt.show()"
   ]
  },
  {
   "cell_type": "markdown",
   "metadata": {},
   "source": [
    "Extra source: https://github.com/mainkoon81/Study-09-MachineLearning-A"
   ]
  }
 ],
 "metadata": {
  "kernelspec": {
   "display_name": "Python 2",
   "language": "python",
   "name": "python2"
  },
  "language_info": {
   "codemirror_mode": {
    "name": "ipython",
    "version": 2
   },
   "file_extension": ".py",
   "mimetype": "text/x-python",
   "name": "python",
   "nbconvert_exporter": "python",
   "pygments_lexer": "ipython2",
   "version": "2.7.15"
  }
 },
 "nbformat": 4,
 "nbformat_minor": 2
}
